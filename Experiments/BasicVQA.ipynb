{
 "cells": [
  {
   "cell_type": "code",
   "execution_count": 1,
   "metadata": {},
   "outputs": [
    {
     "name": "stdout",
     "output_type": "stream",
     "text": [
      "Cloning into 'basic_vqa'...\n",
      "remote: Enumerating objects: 403, done.\u001b[K\n",
      "remote: Total 403 (delta 0), reused 0 (delta 0), pack-reused 403\u001b[K\n",
      "Receiving objects: 100% (403/403), 757.62 KiB | 4.92 MiB/s, done.\n",
      "Resolving deltas: 100% (216/216), done.\n"
     ]
    }
   ],
   "source": [
    "! git clone https://github.com/tbmoon/basic_vqa.git"
   ]
  },
  {
   "cell_type": "code",
   "execution_count": 30,
   "metadata": {},
   "outputs": [
    {
     "name": "stdout",
     "output_type": "stream",
     "text": [
      "<DirEntry '.DS_Store'>\n",
      "Not exist\n",
      "<DirEntry 'val2017'>\n",
      "[1000/1250] Resized the images and saved into '../datasets/Resized_Images/val2017'.\n",
      "<DirEntry 'test2017'>\n",
      "[1000/1250] Resized the images and saved into '../datasets/Resized_Images/test2017'.\n",
      "<DirEntry 'train2017'>\n",
      "[1000/5000] Resized the images and saved into '../datasets/Resized_Images/train2017'.\n",
      "[2000/5000] Resized the images and saved into '../datasets/Resized_Images/train2017'.\n",
      "[3000/5000] Resized the images and saved into '../datasets/Resized_Images/train2017'.\n",
      "[4000/5000] Resized the images and saved into '../datasets/Resized_Images/train2017'.\n",
      "[5000/5000] Resized the images and saved into '../datasets/Resized_Images/train2017'.\n"
     ]
    }
   ],
   "source": [
    "!python ./basic_vqa/utils/resize_images.py --input_dir='/Users/sh69/Documents/CS444_Project/CS444-VQA/coco/' --output_dir='../datasets/Resized_Images'  "
   ]
  },
  {
   "cell_type": "code",
   "execution_count": 13,
   "metadata": {},
   "outputs": [
    {
     "name": "stdout",
     "output_type": "stream",
     "text": [
      "Make vocabulary for questions\n",
      "The number of total words of questions: 3435\n",
      "Maximum length of question: 21\n",
      "Make vocabulary for answers\n",
      "The number of total words of answers: 9634\n",
      "Keep top 1000 answers into vocab\n"
     ]
    }
   ],
   "source": [
    "\n",
    "!python ./basic_vqa/utils/make_vacabs_for_questions_answers.py --input_dir='../datasets'"
   ]
  },
  {
   "cell_type": "code",
   "execution_count": 17,
   "metadata": {},
   "outputs": [
    {
     "name": "stdout",
     "output_type": "stream",
     "text": [
      "Traceback (most recent call last):\n",
      "  File \"/Users/sh69/Documents/CS444_Project/CS444-VQA/Experiments/./basic_vqa/utils/build_vqa_inputs.py\", line 96, in <module>\n",
      "    main(args)\n",
      "  File \"/Users/sh69/Documents/CS444_Project/CS444-VQA/Experiments/./basic_vqa/utils/build_vqa_inputs.py\", line 69, in main\n",
      "    answer_dict = text_helper.VocabDict(vocab_answer_file)\n",
      "  File \"/Users/sh69/Documents/CS444_Project/CS444-VQA/Experiments/basic_vqa/utils/text_helper.py\", line 23, in __init__\n",
      "    self.word_list = load_str_list(vocab_file)\n",
      "  File \"/Users/sh69/Documents/CS444_Project/CS444-VQA/Experiments/basic_vqa/utils/text_helper.py\", line 14, in load_str_list\n",
      "    with open(fname) as f:\n",
      "FileNotFoundError: [Errno 2] No such file or directory: '../datasets/vocab_answers.txt'\n"
     ]
    }
   ],
   "source": [
    "!python ./basic_vqa/utils/build_vqa_inputs.py --input_dir='../datasets' --output_dir='../datasets'"
   ]
  },
  {
   "cell_type": "code",
   "execution_count": 23,
   "metadata": {},
   "outputs": [
    {
     "name": "stdout",
     "output_type": "stream",
     "text": [
      "/Users/sh69/miniconda3/envs/vqa/lib/python3.10/site-packages/torchvision/models/_utils.py:208: UserWarning: The parameter 'pretrained' is deprecated since 0.13 and may be removed in the future, please use 'weights' instead.\n",
      "  warnings.warn(\n",
      "/Users/sh69/miniconda3/envs/vqa/lib/python3.10/site-packages/torchvision/models/_utils.py:223: UserWarning: Arguments other than a weight enum or `None` for 'weights' are deprecated since 0.13 and may be removed in the future. The current behavior is equivalent to passing `weights=VGG19_Weights.IMAGENET1K_V1`. You can also use `weights=VGG19_Weights.DEFAULT` to get the most up-to-date weights.\n",
      "  warnings.warn(msg)\n",
      "/Users/sh69/miniconda3/envs/vqa/lib/python3.10/site-packages/torch/optim/lr_scheduler.py:136: UserWarning: Detected call of `lr_scheduler.step()` before `optimizer.step()`. In PyTorch 1.1.0 and later, you should call them in the opposite order: `optimizer.step()` before `lr_scheduler.step()`.  Failure to do this will result in PyTorch skipping the first value of the learning rate schedule. See more details at https://pytorch.org/docs/stable/optim.html#how-to-adjust-learning-rate\n",
      "  warnings.warn(\"Detected call of `lr_scheduler.step()` before `optimizer.step()`. \"\n",
      "| TRAIN SET | Epoch [01/10], Step [0000/0459], Loss: 6.9087\n",
      "| TRAIN SET | Epoch [01/10], Step [0100/0459], Loss: 4.4432\n",
      "| TRAIN SET | Epoch [01/10], Step [0200/0459], Loss: 4.4561\n",
      "| TRAIN SET | Epoch [01/10], Step [0300/0459], Loss: 4.0120\n",
      "| TRAIN SET | Epoch [01/10], Step [0400/0459], Loss: 5.0910\n",
      "| TRAIN SET | Epoch [01/10], Loss: 4.4597, Acc(Exp1): 0.2944, Acc(Exp2): 0.2944 \n",
      "\n",
      "| VALID SET | Epoch [01/10], Step [0000/0051], Loss: 4.0795\n",
      "| VALID SET | Epoch [01/10], Loss: 4.5859, Acc(Exp1): 0.2791, Acc(Exp2): 0.2791 \n",
      "\n",
      "| TRAIN SET | Epoch [02/10], Step [0000/0459], Loss: 3.9531\n",
      "| TRAIN SET | Epoch [02/10], Step [0100/0459], Loss: 5.2735\n",
      "| TRAIN SET | Epoch [02/10], Step [0200/0459], Loss: 4.2903\n",
      "| TRAIN SET | Epoch [02/10], Step [0300/0459], Loss: 3.8349\n",
      "| TRAIN SET | Epoch [02/10], Step [0400/0459], Loss: 4.2217\n",
      "| TRAIN SET | Epoch [02/10], Loss: 3.9873, Acc(Exp1): 0.3242, Acc(Exp2): 0.3240 \n",
      "\n",
      "| VALID SET | Epoch [02/10], Step [0000/0051], Loss: 3.8407\n",
      "| VALID SET | Epoch [02/10], Loss: 3.5235, Acc(Exp1): 0.3973, Acc(Exp2): 0.3955 \n",
      "\n",
      "| TRAIN SET | Epoch [03/10], Step [0000/0459], Loss: 3.2856\n",
      "| TRAIN SET | Epoch [03/10], Step [0100/0459], Loss: 2.9705\n",
      "| TRAIN SET | Epoch [03/10], Step [0200/0459], Loss: 2.9221\n",
      "| TRAIN SET | Epoch [03/10], Step [0300/0459], Loss: 2.4114\n",
      "| TRAIN SET | Epoch [03/10], Step [0400/0459], Loss: 2.0457\n",
      "| TRAIN SET | Epoch [03/10], Loss: 3.0769, Acc(Exp1): 0.4351, Acc(Exp2): 0.4321 \n",
      "\n",
      "| VALID SET | Epoch [03/10], Step [0000/0051], Loss: 3.4101\n",
      "| VALID SET | Epoch [03/10], Loss: 3.1042, Acc(Exp1): 0.4418, Acc(Exp2): 0.4394 \n",
      "\n",
      "| TRAIN SET | Epoch [04/10], Step [0000/0459], Loss: 3.6497\n",
      "| TRAIN SET | Epoch [04/10], Step [0100/0459], Loss: 3.2511\n",
      "| TRAIN SET | Epoch [04/10], Step [0200/0459], Loss: 2.9882\n",
      "| TRAIN SET | Epoch [04/10], Step [0300/0459], Loss: 2.9048\n",
      "| TRAIN SET | Epoch [04/10], Step [0400/0459], Loss: 2.3025\n",
      "| TRAIN SET | Epoch [04/10], Loss: 2.8441, Acc(Exp1): 0.4542, Acc(Exp2): 0.4501 \n",
      "\n",
      "| VALID SET | Epoch [04/10], Step [0000/0051], Loss: 3.1515\n"
     ]
    }
   ],
   "source": [
    "!python ./basic_vqa/train.py --num_epochs=10 --batch_size=32"
   ]
  }
 ],
 "metadata": {
  "kernelspec": {
   "display_name": "Python 3.10.13 ('vqa')",
   "language": "python",
   "name": "python3"
  },
  "language_info": {
   "codemirror_mode": {
    "name": "ipython",
    "version": 3
   },
   "file_extension": ".py",
   "mimetype": "text/x-python",
   "name": "python",
   "nbconvert_exporter": "python",
   "pygments_lexer": "ipython3",
   "version": "3.10.13"
  },
  "orig_nbformat": 4,
  "vscode": {
   "interpreter": {
    "hash": "c5296ecca0b00e8539e0973b2cc4a7fca8404f4c460630821a17ec6b54a1d42b"
   }
  }
 },
 "nbformat": 4,
 "nbformat_minor": 2
}
