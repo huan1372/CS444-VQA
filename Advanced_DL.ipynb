{
  "nbformat": 4,
  "nbformat_minor": 0,
  "metadata": {
    "colab": {
      "provenance": []
    },
    "kernelspec": {
      "name": "python3",
      "display_name": "Python 3"
    },
    "language_info": {
      "name": "python"
    },
    "accelerator": "GPU"
  },
  "cells": [
    {
      "cell_type": "markdown",
      "source": [
        "###Mount Drive"
      ],
      "metadata": {
        "id": "iUQ82jLwfCzp"
      }
    },
    {
      "cell_type": "code",
      "source": [
        "from google.colab import drive\n",
        "drive.mount('/content/drive')"
      ],
      "metadata": {
        "colab": {
          "base_uri": "https://localhost:8080/"
        },
        "id": "TH6oy-ElfHev",
        "outputId": "48a4322e-a186-4e70-d5e2-add76f62680b"
      },
      "execution_count": 1,
      "outputs": [
        {
          "output_type": "stream",
          "name": "stdout",
          "text": [
            "Mounted at /content/drive\n"
          ]
        }
      ]
    },
    {
      "cell_type": "code",
      "source": [
        "# Since we've shared this drive with you, please use the correct file path from your drive since it'll go to SharedDrive for you\n",
        "%cd '/content/drive/MyDrive/vqa'"
      ],
      "metadata": {
        "id": "_IbzjAPGfPrB",
        "colab": {
          "base_uri": "https://localhost:8080/"
        },
        "outputId": "3dade07a-463f-4442-e6c3-74e0247d8b0a"
      },
      "execution_count": 2,
      "outputs": [
        {
          "output_type": "stream",
          "name": "stdout",
          "text": [
            "/content/drive/MyDrive/vqa\n"
          ]
        }
      ]
    },
    {
      "cell_type": "code",
      "source": [
        "import os\n",
        "os.chdir(\"/content/drive/MyDrive/vqa\")\n",
        "#os.chdir(\"./\")"
      ],
      "metadata": {
        "id": "Xk2OcvMnXup0"
      },
      "execution_count": 3,
      "outputs": []
    },
    {
      "cell_type": "markdown",
      "source": [
        "###Import relevant libraries"
      ],
      "metadata": {
        "id": "BeENDeNpLPbb"
      }
    },
    {
      "cell_type": "code",
      "source": [
        "!pip install opencv-python"
      ],
      "metadata": {
        "colab": {
          "base_uri": "https://localhost:8080/"
        },
        "id": "4dm7ri53XoUd",
        "outputId": "0abe3dd5-e639-4830-f504-8b70e16c3916"
      },
      "execution_count": 34,
      "outputs": [
        {
          "output_type": "stream",
          "name": "stdout",
          "text": [
            "Requirement already satisfied: opencv-python in /usr/local/lib/python3.10/dist-packages (4.8.0.76)\n",
            "Requirement already satisfied: numpy>=1.21.2 in /usr/local/lib/python3.10/dist-packages (from opencv-python) (1.23.5)\n"
          ]
        }
      ]
    },
    {
      "cell_type": "code",
      "execution_count": 4,
      "metadata": {
        "id": "EWPWCQJ9LM7W"
      },
      "outputs": [],
      "source": [
        "import os\n",
        "import numpy as np\n",
        "import torch\n",
        "import torchvision.models as models\n",
        "import torch.utils.data as data\n",
        "import torchvision.transforms as transforms\n",
        "import torch.nn as nn\n",
        "import torch.optim as optim\n",
        "from torch.optim import lr_scheduler\n",
        "from PIL import Image\n",
        "import re\n",
        "import time\n",
        "import cv2\n",
        "import warnings"
      ]
    },
    {
      "cell_type": "markdown",
      "source": [
        "###Setting the constants and parameter values"
      ],
      "metadata": {
        "id": "tBtSbtFJMQ9U"
      }
    },
    {
      "cell_type": "code",
      "source": [
        "input_dir = '/content/drive/MyDrive/vqa/input_dir'\n",
        "log_dir = '/content/drive/MyDrive/vqa/logs'\n",
        "model_dir = '/content/drive/MyDrive/vqa/models'\n",
        "\n",
        "# maximum length of question, the length in the VQA dataset is 26\n",
        "max_qst_length = 30\n",
        "# maximum number of answers\n",
        "max_num_ans = 10\n",
        "# embedding size of feature vector for image and question\n",
        "embed_size = 1024\n",
        "# embedding size of the word used as the input for the LSTM\n",
        "word_embed_size = 300\n",
        "# Number of layers in the LSTM\n",
        "num_layers = 2\n",
        "# Hidden size in the LSTM\n",
        "hidden_size = 64\n",
        "# Learning rate, step size and decay rate used while initializing the Step learning rate Scheduler\n",
        "learning_rate = 0.001\n",
        "step_size = 10\n",
        "gamma = 0.1\n",
        "#Number of epochs it is trained on\n",
        "num_epochs = 30\n",
        "#Batch size, number of workers and the steps after which the model parameters are saved\n",
        "batch_size = 256\n",
        "num_workers = 4\n",
        "save_step = 1\n",
        "\n",
        "device = torch.device('cuda' if torch.cuda.is_available() else 'cpu')"
      ],
      "metadata": {
        "id": "4kyUxL5EMVqW"
      },
      "execution_count": 5,
      "outputs": []
    },
    {
      "cell_type": "markdown",
      "source": [
        "###Helper Functions for Handling Text"
      ],
      "metadata": {
        "id": "byQqyFa2LyJ4"
      }
    },
    {
      "cell_type": "code",
      "source": [
        "SENTENCE_SPLIT_REGEX = re.compile(r'(\\W+)')\n",
        "\n",
        "# create tokens\n",
        "def tokenize(sentence):\n",
        "    tokens = SENTENCE_SPLIT_REGEX.split(sentence.lower())\n",
        "    tokens = [t.strip() for t in tokens if len(t.strip()) > 0]\n",
        "    return tokens\n",
        "\n",
        "# returns a file as list of lines\n",
        "def load_str_list(fname):\n",
        "    with open(fname) as f:\n",
        "        lines = f.readlines()\n",
        "    lines = [l.strip() for l in lines]\n",
        "    return lines\n",
        "\n",
        "\n",
        "# Tokenizes the text and then gives the index of the word from the vocab txt file of answers and questions\n",
        "class VocabDict:\n",
        "\n",
        "    def __init__(self, vocab_file):\n",
        "        self.word_list = load_str_list(vocab_file)\n",
        "        self.word2idx_dict = {w:n_w for n_w, w in enumerate(self.word_list)}\n",
        "        self.vocab_size = len(self.word_list)\n",
        "        self.unk2idx = self.word2idx_dict['<unk>'] if '<unk>' in self.word2idx_dict else None\n",
        "\n",
        "    def idx2word(self, n_w):\n",
        "\n",
        "        return self.word_list[n_w]\n",
        "\n",
        "    def word2idx(self, w):\n",
        "        if w in self.word2idx_dict:\n",
        "            return self.word2idx_dict[w]\n",
        "        elif self.unk2idx is not None:\n",
        "            return self.unk2idx\n",
        "        else:\n",
        "            raise ValueError('word %s not in dictionary (while dictionary does not contain <unk>)' % w)\n",
        "\n",
        "    def tokenize_and_index(self, sentence):\n",
        "        inds = [self.word2idx(w) for w in tokenize(sentence)]\n",
        "\n",
        "        return inds\n"
      ],
      "metadata": {
        "id": "nO1Aqs0QLsWM"
      },
      "execution_count": 6,
      "outputs": []
    },
    {
      "cell_type": "markdown",
      "source": [
        "###Building the Dataset and DataLoader"
      ],
      "metadata": {
        "id": "MMKzQIZZMCyh"
      }
    },
    {
      "cell_type": "code",
      "source": [
        "class VqaDataset(data.Dataset):\n",
        "\n",
        "    def __init__(self, input_dir, input_vqa, max_qst_length=30, max_num_ans=10, transform=None):\n",
        "        self.input_dir = input_dir\n",
        "        self.vqa = np.load(input_dir+'/'+input_vqa, allow_pickle=True)\n",
        "        self.qst_vocab = VocabDict(input_dir+'/dataset/vocab_questions.txt')\n",
        "        self.ans_vocab = VocabDict(input_dir+'/dataset/vocab_answers.txt')\n",
        "        self.max_qst_length = max_qst_length\n",
        "        self.max_num_ans = max_num_ans\n",
        "        self.load_ans = ('valid_answers' in self.vqa[0]) and (self.vqa[0]['valid_answers'] is not None)\n",
        "        self.transform = transform\n",
        "\n",
        "    def __getitem__(self, idx):\n",
        "\n",
        "        vqa = self.vqa\n",
        "        qst_vocab = self.qst_vocab\n",
        "        ans_vocab = self.ans_vocab\n",
        "        max_qst_length = self.max_qst_length\n",
        "        max_num_ans = self.max_num_ans\n",
        "        transform = self.transform\n",
        "        load_ans = self.load_ans\n",
        "\n",
        "        image = vqa[idx]['image_path']\n",
        "        image = Image.open(image).convert('RGB')\n",
        "        qst2idc = np.array([qst_vocab.word2idx('<pad>')] * max_qst_length)  # padded with '<pad>' in 'ans_vocab'\n",
        "        qst2idc[:len(vqa[idx]['question_tokens'])] = [qst_vocab.word2idx(w) for w in vqa[idx]['question_tokens']]\n",
        "        sample = {'image': image, 'question': qst2idc}\n",
        "\n",
        "        if load_ans:\n",
        "            ans2idc = [ans_vocab.word2idx(w) for w in vqa[idx]['valid_answers']]\n",
        "            ans2idx = np.random.choice(ans2idc)\n",
        "            sample['answer_label'] = ans2idx         # for training\n",
        "\n",
        "            mul2idc = list([-1] * max_num_ans)       # padded with -1 (no meaning) not used in 'ans_vocab'\n",
        "            mul2idc[:len(ans2idc)] = ans2idc         # our model should not predict -1\n",
        "            sample['answer_multi_choice'] = mul2idc  # for evaluation metric\n",
        "\n",
        "        if transform:\n",
        "            sample['image'] = transform(sample['image'])\n",
        "\n",
        "        return sample\n",
        "\n",
        "    def __len__(self):\n",
        "\n",
        "        return len(self.vqa)\n",
        "\n",
        "\n",
        "def get_loader(input_dir, input_vqa_train, input_vqa_valid, max_qst_length, max_num_ans, batch_size, num_workers):\n",
        "\n",
        "    transform = {\n",
        "        phase: transforms.Compose([transforms.ToTensor(),\n",
        "                                   transforms.Normalize((0.485, 0.456, 0.406),\n",
        "                                                        (0.229, 0.224, 0.225))])\n",
        "        for phase in ['train', 'valid']}\n",
        "\n",
        "    vqa_dataset = {\n",
        "        'train': VqaDataset(\n",
        "            input_dir=input_dir,\n",
        "            input_vqa=input_vqa_train,\n",
        "            max_qst_length=max_qst_length,\n",
        "            max_num_ans=max_num_ans,\n",
        "            transform=transform['train']),\n",
        "        'valid': VqaDataset(\n",
        "            input_dir=input_dir,\n",
        "            input_vqa=input_vqa_valid,\n",
        "            max_qst_length=max_qst_length,\n",
        "            max_num_ans=max_num_ans,\n",
        "            transform=transform['valid'])}\n",
        "\n",
        "    data_loader = {\n",
        "        phase: torch.utils.data.DataLoader(\n",
        "            dataset=vqa_dataset[phase],\n",
        "            batch_size=batch_size,\n",
        "            shuffle=True,\n",
        "            num_workers=num_workers)\n",
        "        for phase in ['train', 'valid']}\n",
        "\n",
        "    return data_loader"
      ],
      "metadata": {
        "id": "j2ri8KxPL3xH"
      },
      "execution_count": 7,
      "outputs": []
    },
    {
      "cell_type": "code",
      "source": [
        "from data_loader import VqaDataset,get_loader"
      ],
      "metadata": {
        "id": "Zk-WHb7xYIVT"
      },
      "execution_count": 8,
      "outputs": []
    },
    {
      "cell_type": "markdown",
      "source": [
        "##Model: Image Encoding Block"
      ],
      "metadata": {
        "id": "_kubGfT_R0yQ"
      }
    },
    {
      "cell_type": "code",
      "source": [
        "class ImgAttentionEncoder(nn.Module):\n",
        "\n",
        "    def __init__(self, embed_size):\n",
        "\n",
        "        super(ImgAttentionEncoder, self).__init__()\n",
        "        vggnet_feat = models.vgg19(pretrained=True).features\n",
        "        modules = list(vggnet_feat.children())[:-2]\n",
        "        self.cnn = nn.Sequential(*modules)\n",
        "        self.fc = nn.Sequential(nn.Linear(self.cnn[-3].out_channels, embed_size),\n",
        "                                nn.Tanh())     # feature vector of image\n",
        "\n",
        "    def forward(self, image):\n",
        "\n",
        "        with torch.no_grad():\n",
        "            img_feature = self.cnn(image)\n",
        "        #print(img_feature.shape)                       # [batch_size, vgg16(19)_fc=4096]\n",
        "        img_feature = img_feature.view(-1, 512, 196).transpose(1,2) # [batch_size, 196, 512]\n",
        "        img_feature = self.fc(img_feature)                          # [batch_size, 196, embed_size]\n",
        "        #print(image.shape, img_feature.shape,\"\\n\")\n",
        "\n",
        "        return img_feature\n",
        "\n"
      ],
      "metadata": {
        "id": "3crpWchKR1Ua"
      },
      "execution_count": 9,
      "outputs": []
    },
    {
      "cell_type": "markdown",
      "source": [
        "###Model: Question Encoding Block"
      ],
      "metadata": {
        "id": "RS-9L7-_SmpP"
      }
    },
    {
      "cell_type": "code",
      "source": [
        "class QstEncoder(nn.Module):\n",
        "\n",
        "    def __init__(self, qst_vocab_size, word_embed_size, embed_size, num_layers, hidden_size):\n",
        "\n",
        "        super(QstEncoder, self).__init__()\n",
        "        self.word2vec = nn.Embedding(qst_vocab_size, word_embed_size)\n",
        "        self.tanh = nn.Tanh()\n",
        "        self.lstm = nn.LSTM(word_embed_size, hidden_size, num_layers)\n",
        "        self.fc = nn.Linear(2*num_layers*hidden_size, embed_size)     # 2 for hidden and cell states\n",
        "\n",
        "    def forward(self, question):\n",
        "\n",
        "        qst_vec = self.word2vec(question)                             # [batch_size, max_qst_length=30, word_embed_size=300]\n",
        "        qst_vec = self.tanh(qst_vec)\n",
        "        qst_vec = qst_vec.transpose(0, 1)                             # [max_qst_length=30, batch_size, word_embed_size=300]\n",
        "        _, (hidden, cell) = self.lstm(qst_vec)                        # [num_layers=2, batch_size, hidden_size=512]\n",
        "        qst_feature = torch.cat((hidden, cell), 2)                    # [num_layers=2, batch_size, 2*hidden_size=1024]\n",
        "        qst_feature = qst_feature.transpose(0, 1)                     # [batch_size, num_layers=2, 2*hidden_size=1024]\n",
        "        qst_feature = qst_feature.reshape(qst_feature.size()[0], -1)  # [batch_size, 2*num_layers*hidden_size=2048]\n",
        "        qst_feature = self.tanh(qst_feature)\n",
        "        qst_feature = self.fc(qst_feature)                            # [batch_size, embed_size]\n",
        "\n",
        "        return qst_feature"
      ],
      "metadata": {
        "id": "InpvRJdcSqPD"
      },
      "execution_count": 10,
      "outputs": []
    },
    {
      "cell_type": "markdown",
      "source": [
        "###Model: Attention Block"
      ],
      "metadata": {
        "id": "eAxCHSplZyvG"
      }
    },
    {
      "cell_type": "code",
      "source": [
        "class Attention(nn.Module):\n",
        "    def __init__(self, num_channels, embed_size, use_dropout=True):\n",
        "        super(Attention, self).__init__()\n",
        "        self.ff_image = nn.Linear(embed_size, num_channels)\n",
        "        self.ff_questions = nn.Linear(embed_size, num_channels)\n",
        "        self.use_dropout = use_dropout #Introduced a `use_dropout` boolean parameter in the `__init__` method to control whether dropout should be applied.\n",
        "        self.dropout = nn.Dropout(p=0.5)\n",
        "        self.ff_attention = nn.Linear(num_channels, 1)\n",
        "\n",
        "    def forward(self, vi, vq):\n",
        "        hi = self.ff_image(vi)\n",
        "        hq = self.ff_questions(vq).unsqueeze(dim=1)\n",
        "        ha = torch.tanh(hi + hq)\n",
        "        if self.use_dropout and self.training: # Dropout will only be applied when the model is explicitly set to training mode\n",
        "            ha = self.dropout(ha)\n",
        "        ha = self.ff_attention(ha)\n",
        "        pi = torch.softmax(ha, dim=1)\n",
        "        self.pi = pi\n",
        "        vi_attended = (pi * vi).sum(dim=1)  # creating the weighted image vector using attention distribution\n",
        "        u = vi_attended + vq  # concatenating the new query vector and the weighted image vector\n",
        "        return u\n"
      ],
      "metadata": {
        "id": "mTUQNgeSZ1ZG"
      },
      "execution_count": 18,
      "outputs": []
    },
    {
      "cell_type": "markdown",
      "source": [
        "###Model: Combine Image Encoding and Question Encoding Block"
      ],
      "metadata": {
        "id": "NIFmwwSJS_9s"
      }
    },
    {
      "cell_type": "code",
      "source": [
        "class SANModel(nn.Module):\n",
        "    def __init__(self, embed_size, qst_vocab_size, ans_vocab_size, word_embed_size, num_layers, hidden_size):\n",
        "        super(SANModel, self).__init__()\n",
        "        self.num_attention_layer = 2\n",
        "        self.num_mlp_layer = 1\n",
        "        self.img_encoder = ImgAttentionEncoder(embed_size)\n",
        "        self.qst_encoder = QstEncoder(qst_vocab_size, word_embed_size, embed_size, num_layers, hidden_size)\n",
        "\n",
        "        # Initialize attention layers individually to avoid shared weights\n",
        "        self.san = nn.ModuleList([Attention(512, embed_size, use_dropout=True) for _ in range(self.num_attention_layer)])\n",
        "\n",
        "\n",
        "\n",
        "        self.tanh = nn.Tanh()\n",
        "\n",
        "        # MLP layers with batch normalization\n",
        "        self.mlp = nn.Sequential(\n",
        "            nn.Linear(embed_size, ans_vocab_size),\n",
        "            nn.BatchNorm1d(ans_vocab_size),  # Batch Normalization before activation\n",
        "            nn.Dropout(p=0.5),\n",
        "            nn.ReLU()  # Use ReLU as it is more commonly used in such architectures\n",
        "        )\n",
        "\n",
        "        self.attn_features = []  # attention features for potential analysis\n",
        "\n",
        "    def forward(self, img, qst):\n",
        "        img_feature = self.img_encoder(img)  # [batch_size, embed_size]\n",
        "        qst_feature = self.qst_encoder(qst)  # [batch_size, embed_size]\n",
        "        vi = img_feature\n",
        "        u = qst_feature\n",
        "\n",
        "        # Store attention features from each layer\n",
        "        for attn_layer in self.san:\n",
        "            u = attn_layer(vi, u)\n",
        "            if self.training:  # Save attention features only during training\n",
        "                self.attn_features.append(attn_layer.pi)\n",
        "\n",
        "        combined_feature = self.mlp(u)\n",
        "\n",
        "        return combined_feature\n"
      ],
      "metadata": {
        "id": "C57q-LSBTE9g"
      },
      "execution_count": 23,
      "outputs": []
    },
    {
      "cell_type": "markdown",
      "source": [
        "###Training Loop"
      ],
      "metadata": {
        "id": "Z2JJKjmqPBTM"
      }
    },
    {
      "cell_type": "code",
      "source": [
        "\n",
        "# Get data loader for train and test - it's a dictionary with the key train having the train dataloader and same for test\n",
        "data_loader = get_loader(\n",
        "        input_dir=input_dir,\n",
        "        input_vqa_train='train.npy',\n",
        "        input_vqa_valid='valid.npy',\n",
        "        max_qst_length=max_qst_length,\n",
        "        max_num_ans=max_num_ans,\n",
        "        batch_size=batch_size,\n",
        "        num_workers=num_workers)\n",
        "\n",
        "qst_vocab_size = data_loader['train'].dataset.qst_vocab.vocab_size\n",
        "ans_vocab_size = data_loader['train'].dataset.ans_vocab.vocab_size\n",
        "ans_unk_idx = data_loader['train'].dataset.ans_vocab.unk2idx\n",
        "\n",
        "# Initializing the model\n",
        "model = SANModel(\n",
        "        embed_size=embed_size,\n",
        "        qst_vocab_size=qst_vocab_size,\n",
        "        ans_vocab_size=ans_vocab_size,\n",
        "        word_embed_size=word_embed_size,\n",
        "        num_layers=num_layers,\n",
        "        hidden_size=hidden_size).to(device)\n",
        "\n",
        "# Initializing the loss function\n",
        "criterion = nn.CrossEntropyLoss()\n",
        "\n",
        "# Initializing the optimizer and learning rate scheduler\n",
        "optimizer = optim.Adam(model.parameters(), lr=learning_rate)\n",
        "scheduler = lr_scheduler.StepLR(optimizer, step_size=step_size, gamma=gamma)\n",
        "\n",
        "\n",
        "last_time = 0\n",
        "early_stop_threshold = 3\n",
        "best_loss = 99999\n",
        "val_increase_count = 0\n",
        "stop_training = False\n",
        "prev_loss = 9999\n",
        "\n",
        "for epoch in range(num_epochs):\n",
        "\n",
        "    for phase in ['train', 'valid']:\n",
        "\n",
        "        running_loss = 0.0\n",
        "        running_corr = 0\n",
        "\n",
        "        batch_step_size = len(data_loader[phase].dataset) / batch_size\n",
        "\n",
        "        if phase == 'train':\n",
        "            scheduler.step()\n",
        "            model.train()\n",
        "        else:\n",
        "            model.eval()\n",
        "\n",
        "        for batch_idx, batch_sample in enumerate(data_loader[phase]):\n",
        "\n",
        "            image = batch_sample['image'].to(device)\n",
        "            question = batch_sample['question'].to(device)\n",
        "            label = batch_sample['answer_label'].to(device)\n",
        "            multi_choice = batch_sample['answer_multi_choice']  # not tensor, list.\n",
        "\n",
        "            optimizer.zero_grad()\n",
        "\n",
        "            with torch.set_grad_enabled(phase == 'train'):\n",
        "\n",
        "                output = model(image, question)      # size: [batch_size X ans_vocab_size=1000]\n",
        "                _, pred = torch.max(output, 1)  # size: [batch_size]\n",
        "\n",
        "                loss = criterion(output, label)\n",
        "\n",
        "                if phase == 'train':\n",
        "                    loss.backward()\n",
        "                    optimizer.step()\n",
        "\n",
        "            # Evaluation metric\n",
        "            running_loss += loss.item()\n",
        "            running_corr += torch.stack([(ans == pred.cpu()) for ans in multi_choice]).any(dim=0).sum()\n",
        "\n",
        "            # Print the average loss in a mini-batch.\n",
        "            if batch_idx % 10 == 0:\n",
        "                time_taken = time.time() - last_time\n",
        "                time_left = (((batch_step_size - batch_idx) * time_taken)/10) * (num_epochs - epoch)\n",
        "                print('| {} SET | Epoch [{:02d}/{:02d}], Step [{:04d}/{:04d}], Loss: {:.4f}, Time left: {:.2f} hr'\n",
        "                      .format(phase.upper(), epoch+1, num_epochs, batch_idx, int(batch_step_size), loss.item(), time_left/3600))\n",
        "                last_time = time.time()\n",
        "        # Print the average loss and accuracy in an epoch.\n",
        "        epoch_loss = running_loss / batch_step_size\n",
        "        epoch_acc = running_corr.double() / len(data_loader[phase].dataset)\n",
        "\n",
        "        print('| {} SET | Epoch [{:02d}/{:02d}], Loss: {:.4f}, Acc: {:.4f}\\n'\n",
        "              .format(phase.upper(), epoch+1, num_epochs, epoch_loss, epoch_acc))\n",
        "\n",
        "\n",
        "\n",
        "        # Log the loss and accuracy in an epoch.\n",
        "        with open(os.path.join(log_dir, '{}-log-epoch-{:02}.txt')\n",
        "                  .format(phase, epoch+1), 'w') as f:\n",
        "            f.write(str(epoch+1) + '\\t'\n",
        "                    + str(epoch_loss) + '\\t'\n",
        "                    + str(epoch_acc.item()))\n",
        "\n",
        "        if phase == 'valid':\n",
        "            if epoch_loss < best_loss:\n",
        "                best_loss = epoch_loss\n",
        "                torch.save(model, os.path.join(model_dir, 'best_model.pt'))\n",
        "            if epoch_loss > prev_loss:\n",
        "                val_increase_count += 1\n",
        "            else:\n",
        "                val_increase_count = 0\n",
        "            if val_increase_count >= early_stop_threshold:\n",
        "                stop_training = True\n",
        "            prev_loss = epoch_loss\n",
        "\n",
        "    # Save the model check points.\n",
        "    if (epoch+1) % save_step == 0:\n",
        "        torch.save(model, os.path.join(model_dir, '-epoch-{:02d}.pt'.format(epoch+1)))\n"
      ],
      "metadata": {
        "colab": {
          "base_uri": "https://localhost:8080/"
        },
        "id": "teFMOxTZEDTo",
        "outputId": "ca994637-bb87-403d-aac3-c67a0cdfd7b8"
      },
      "execution_count": 28,
      "outputs": [
        {
          "output_type": "stream",
          "name": "stderr",
          "text": [
            "/usr/local/lib/python3.10/dist-packages/torch/optim/lr_scheduler.py:136: UserWarning: Detected call of `lr_scheduler.step()` before `optimizer.step()`. In PyTorch 1.1.0 and later, you should call them in the opposite order: `optimizer.step()` before `lr_scheduler.step()`.  Failure to do this will result in PyTorch skipping the first value of the learning rate schedule. See more details at https://pytorch.org/docs/stable/optim.html#how-to-adjust-learning-rate\n",
            "  warnings.warn(\"Detected call of `lr_scheduler.step()` before `optimizer.step()`. \"\n"
          ]
        },
        {
          "output_type": "stream",
          "name": "stdout",
          "text": [
            "| TRAIN SET | Epoch [01/30], Step [0000/0057], Loss: 7.8948, Time left: 81416592.85 hr\n",
            "| TRAIN SET | Epoch [01/30], Step [0010/0057], Loss: 7.3422, Time left: 1.36 hr\n",
            "| TRAIN SET | Epoch [01/30], Step [0020/0057], Loss: 7.1739, Time left: 1.02 hr\n",
            "| TRAIN SET | Epoch [01/30], Step [0030/0057], Loss: 6.9379, Time left: 0.37 hr\n",
            "| TRAIN SET | Epoch [01/30], Step [0040/0057], Loss: 6.7257, Time left: 0.24 hr\n",
            "| TRAIN SET | Epoch [01/30], Step [0050/0057], Loss: 6.6384, Time left: 0.10 hr\n",
            "| TRAIN SET | Epoch [01/30], Loss: 7.0864, Acc: 0.0504\n",
            "\n",
            "| VALID SET | Epoch [01/30], Step [0000/0006], Loss: 6.9014, Time left: 0.08 hr\n",
            "| VALID SET | Epoch [01/30], Loss: 7.6383, Acc: 0.0079\n",
            "\n",
            "| TRAIN SET | Epoch [02/30], Step [0000/0057], Loss: 6.6136, Time left: 0.64 hr\n",
            "| TRAIN SET | Epoch [02/30], Step [0010/0057], Loss: 6.3791, Time left: 0.63 hr\n",
            "| TRAIN SET | Epoch [02/30], Step [0020/0057], Loss: 6.2707, Time left: 0.49 hr\n",
            "| TRAIN SET | Epoch [02/30], Step [0030/0057], Loss: 6.0650, Time left: 0.36 hr\n",
            "| TRAIN SET | Epoch [02/30], Step [0040/0057], Loss: 6.1871, Time left: 0.23 hr\n",
            "| TRAIN SET | Epoch [02/30], Step [0050/0057], Loss: 6.0989, Time left: 0.10 hr\n",
            "| TRAIN SET | Epoch [02/30], Loss: 6.2624, Acc: 0.2322\n",
            "\n",
            "| VALID SET | Epoch [02/30], Step [0000/0006], Loss: 5.6860, Time left: 0.08 hr\n",
            "| VALID SET | Epoch [02/30], Loss: 6.1456, Acc: 0.2962\n",
            "\n",
            "| TRAIN SET | Epoch [03/30], Step [0000/0057], Loss: 5.8147, Time left: 0.70 hr\n",
            "| TRAIN SET | Epoch [03/30], Step [0010/0057], Loss: 5.9856, Time left: 0.61 hr\n",
            "| TRAIN SET | Epoch [03/30], Step [0020/0057], Loss: 5.8544, Time left: 0.48 hr\n",
            "| TRAIN SET | Epoch [03/30], Step [0030/0057], Loss: 5.7072, Time left: 0.35 hr\n",
            "| TRAIN SET | Epoch [03/30], Step [0040/0057], Loss: 5.6284, Time left: 0.22 hr\n",
            "| TRAIN SET | Epoch [03/30], Step [0050/0057], Loss: 5.7771, Time left: 0.09 hr\n",
            "| TRAIN SET | Epoch [03/30], Loss: 5.8711, Acc: 0.3133\n",
            "\n",
            "| VALID SET | Epoch [03/30], Step [0000/0006], Loss: 5.5877, Time left: 0.08 hr\n",
            "| VALID SET | Epoch [03/30], Loss: 6.0485, Acc: 0.3687\n",
            "\n",
            "| TRAIN SET | Epoch [04/30], Step [0000/0057], Loss: 5.7525, Time left: 0.71 hr\n",
            "| TRAIN SET | Epoch [04/30], Step [0010/0057], Loss: 5.4987, Time left: 0.59 hr\n",
            "| TRAIN SET | Epoch [04/30], Step [0020/0057], Loss: 5.7517, Time left: 0.47 hr\n",
            "| TRAIN SET | Epoch [04/30], Step [0030/0057], Loss: 5.5401, Time left: 0.34 hr\n",
            "| TRAIN SET | Epoch [04/30], Step [0040/0057], Loss: 5.7195, Time left: 0.21 hr\n",
            "| TRAIN SET | Epoch [04/30], Step [0050/0057], Loss: 5.6677, Time left: 0.09 hr\n",
            "| TRAIN SET | Epoch [04/30], Loss: 5.7221, Acc: 0.3268\n",
            "\n",
            "| VALID SET | Epoch [04/30], Step [0000/0006], Loss: 5.4051, Time left: 0.08 hr\n",
            "| VALID SET | Epoch [04/30], Loss: 5.8840, Acc: 0.3876\n",
            "\n",
            "| TRAIN SET | Epoch [05/30], Step [0000/0057], Loss: 5.6180, Time left: 0.59 hr\n",
            "| TRAIN SET | Epoch [05/30], Step [0010/0057], Loss: 5.6527, Time left: 0.58 hr\n",
            "| TRAIN SET | Epoch [05/30], Step [0020/0057], Loss: 5.5404, Time left: 0.45 hr\n",
            "| TRAIN SET | Epoch [05/30], Step [0030/0057], Loss: 5.4786, Time left: 0.32 hr\n",
            "| TRAIN SET | Epoch [05/30], Step [0040/0057], Loss: 5.5123, Time left: 0.20 hr\n",
            "| TRAIN SET | Epoch [05/30], Step [0050/0057], Loss: 5.4518, Time left: 0.09 hr\n",
            "| TRAIN SET | Epoch [05/30], Loss: 5.6109, Acc: 0.3378\n",
            "\n",
            "| VALID SET | Epoch [05/30], Step [0000/0006], Loss: 5.2493, Time left: 0.07 hr\n",
            "| VALID SET | Epoch [05/30], Loss: 5.7529, Acc: 0.3949\n",
            "\n",
            "| TRAIN SET | Epoch [06/30], Step [0000/0057], Loss: 5.4335, Time left: 0.60 hr\n",
            "| TRAIN SET | Epoch [06/30], Step [0010/0057], Loss: 5.4545, Time left: 0.55 hr\n",
            "| TRAIN SET | Epoch [06/30], Step [0020/0057], Loss: 5.6082, Time left: 0.43 hr\n",
            "| TRAIN SET | Epoch [06/30], Step [0030/0057], Loss: 5.7388, Time left: 0.31 hr\n",
            "| TRAIN SET | Epoch [06/30], Step [0040/0057], Loss: 5.5645, Time left: 0.20 hr\n",
            "| TRAIN SET | Epoch [06/30], Step [0050/0057], Loss: 5.5554, Time left: 0.08 hr\n",
            "| TRAIN SET | Epoch [06/30], Loss: 5.5319, Acc: 0.3455\n",
            "\n",
            "| VALID SET | Epoch [06/30], Step [0000/0006], Loss: 4.9336, Time left: 0.07 hr\n",
            "| VALID SET | Epoch [06/30], Loss: 5.4104, Acc: 0.4083\n",
            "\n",
            "| TRAIN SET | Epoch [07/30], Step [0000/0057], Loss: 5.3317, Time left: 0.62 hr\n",
            "| TRAIN SET | Epoch [07/30], Step [0010/0057], Loss: 5.4593, Time left: 0.53 hr\n",
            "| TRAIN SET | Epoch [07/30], Step [0020/0057], Loss: 5.5443, Time left: 0.42 hr\n",
            "| TRAIN SET | Epoch [07/30], Step [0030/0057], Loss: 5.6433, Time left: 0.30 hr\n",
            "| TRAIN SET | Epoch [07/30], Step [0040/0057], Loss: 5.4056, Time left: 0.19 hr\n",
            "| TRAIN SET | Epoch [07/30], Step [0050/0057], Loss: 5.2037, Time left: 0.08 hr\n",
            "| TRAIN SET | Epoch [07/30], Loss: 5.4809, Acc: 0.3487\n",
            "\n",
            "| VALID SET | Epoch [07/30], Step [0000/0006], Loss: 5.4299, Time left: 0.07 hr\n",
            "| VALID SET | Epoch [07/30], Loss: 5.9561, Acc: 0.3400\n",
            "\n",
            "| TRAIN SET | Epoch [08/30], Step [0000/0057], Loss: 5.1765, Time left: 0.57 hr\n",
            "| TRAIN SET | Epoch [08/30], Step [0010/0057], Loss: 5.6672, Time left: 0.50 hr\n",
            "| TRAIN SET | Epoch [08/30], Step [0020/0057], Loss: 5.3807, Time left: 0.40 hr\n",
            "| TRAIN SET | Epoch [08/30], Step [0030/0057], Loss: 5.3489, Time left: 0.29 hr\n",
            "| TRAIN SET | Epoch [08/30], Step [0040/0057], Loss: 5.1785, Time left: 0.18 hr\n",
            "| TRAIN SET | Epoch [08/30], Step [0050/0057], Loss: 5.3900, Time left: 0.08 hr\n",
            "| TRAIN SET | Epoch [08/30], Loss: 5.4249, Acc: 0.3557\n",
            "\n",
            "| VALID SET | Epoch [08/30], Step [0000/0006], Loss: 5.3873, Time left: 0.07 hr\n",
            "| VALID SET | Epoch [08/30], Loss: 5.8473, Acc: 0.3760\n",
            "\n",
            "| TRAIN SET | Epoch [09/30], Step [0000/0057], Loss: 5.3705, Time left: 0.50 hr\n",
            "| TRAIN SET | Epoch [09/30], Step [0010/0057], Loss: 5.1409, Time left: 0.49 hr\n",
            "| TRAIN SET | Epoch [09/30], Step [0020/0057], Loss: 5.4035, Time left: 0.38 hr\n",
            "| TRAIN SET | Epoch [09/30], Step [0030/0057], Loss: 5.4622, Time left: 0.27 hr\n",
            "| TRAIN SET | Epoch [09/30], Step [0040/0057], Loss: 5.0625, Time left: 0.17 hr\n",
            "| TRAIN SET | Epoch [09/30], Step [0050/0057], Loss: 5.2062, Time left: 0.07 hr\n",
            "| TRAIN SET | Epoch [09/30], Loss: 5.3570, Acc: 0.3592\n",
            "\n",
            "| VALID SET | Epoch [09/30], Step [0000/0006], Loss: 5.1103, Time left: 0.06 hr\n",
            "| VALID SET | Epoch [09/30], Loss: 5.4858, Acc: 0.4217\n",
            "\n",
            "| TRAIN SET | Epoch [10/30], Step [0000/0057], Loss: 5.1412, Time left: 0.47 hr\n",
            "| TRAIN SET | Epoch [10/30], Step [0010/0057], Loss: 5.1745, Time left: 0.46 hr\n",
            "| TRAIN SET | Epoch [10/30], Step [0020/0057], Loss: 5.2978, Time left: 0.36 hr\n",
            "| TRAIN SET | Epoch [10/30], Step [0030/0057], Loss: 5.1805, Time left: 0.26 hr\n",
            "| TRAIN SET | Epoch [10/30], Step [0040/0057], Loss: 5.1555, Time left: 0.17 hr\n",
            "| TRAIN SET | Epoch [10/30], Step [0050/0057], Loss: 5.1672, Time left: 0.07 hr\n",
            "| TRAIN SET | Epoch [10/30], Loss: 5.2741, Acc: 0.3742\n",
            "\n",
            "| VALID SET | Epoch [10/30], Step [0000/0006], Loss: 5.1046, Time left: 0.06 hr\n",
            "| VALID SET | Epoch [10/30], Loss: 5.6087, Acc: 0.4321\n",
            "\n",
            "| TRAIN SET | Epoch [11/30], Step [0000/0057], Loss: 5.1471, Time left: 0.50 hr\n",
            "| TRAIN SET | Epoch [11/30], Step [0010/0057], Loss: 5.4465, Time left: 0.43 hr\n",
            "| TRAIN SET | Epoch [11/30], Step [0020/0057], Loss: 5.2464, Time left: 0.34 hr\n",
            "| TRAIN SET | Epoch [11/30], Step [0030/0057], Loss: 5.2449, Time left: 0.25 hr\n",
            "| TRAIN SET | Epoch [11/30], Step [0040/0057], Loss: 5.1961, Time left: 0.16 hr\n",
            "| TRAIN SET | Epoch [11/30], Step [0050/0057], Loss: 5.3557, Time left: 0.07 hr\n",
            "| TRAIN SET | Epoch [11/30], Loss: 5.2518, Acc: 0.3774\n",
            "\n",
            "| VALID SET | Epoch [11/30], Step [0000/0006], Loss: 5.0464, Time left: 0.06 hr\n",
            "| VALID SET | Epoch [11/30], Loss: 5.4858, Acc: 0.4540\n",
            "\n",
            "| TRAIN SET | Epoch [12/30], Step [0000/0057], Loss: 5.2151, Time left: 0.47 hr\n",
            "| TRAIN SET | Epoch [12/30], Step [0010/0057], Loss: 4.9950, Time left: 0.43 hr\n",
            "| TRAIN SET | Epoch [12/30], Step [0020/0057], Loss: 5.2694, Time left: 0.33 hr\n",
            "| TRAIN SET | Epoch [12/30], Step [0030/0057], Loss: 5.1592, Time left: 0.24 hr\n",
            "| TRAIN SET | Epoch [12/30], Step [0040/0057], Loss: 5.1662, Time left: 0.15 hr\n",
            "| TRAIN SET | Epoch [12/30], Step [0050/0057], Loss: 5.1374, Time left: 0.06 hr\n",
            "| TRAIN SET | Epoch [12/30], Loss: 5.2285, Acc: 0.3824\n",
            "\n",
            "| VALID SET | Epoch [12/30], Step [0000/0006], Loss: 5.0662, Time left: 0.05 hr\n",
            "| VALID SET | Epoch [12/30], Loss: 5.5316, Acc: 0.4619\n",
            "\n",
            "| TRAIN SET | Epoch [13/30], Step [0000/0057], Loss: 4.9511, Time left: 0.42 hr\n",
            "| TRAIN SET | Epoch [13/30], Step [0010/0057], Loss: 5.3682, Time left: 0.40 hr\n",
            "| TRAIN SET | Epoch [13/30], Step [0020/0057], Loss: 5.1714, Time left: 0.31 hr\n",
            "| TRAIN SET | Epoch [13/30], Step [0030/0057], Loss: 5.1220, Time left: 0.23 hr\n",
            "| TRAIN SET | Epoch [13/30], Step [0040/0057], Loss: 5.3985, Time left: 0.14 hr\n",
            "| TRAIN SET | Epoch [13/30], Step [0050/0057], Loss: 5.2689, Time left: 0.06 hr\n",
            "| TRAIN SET | Epoch [13/30], Loss: 5.1904, Acc: 0.3868\n",
            "\n",
            "| VALID SET | Epoch [13/30], Step [0000/0006], Loss: 5.0127, Time left: 0.05 hr\n",
            "| VALID SET | Epoch [13/30], Loss: 5.4794, Acc: 0.4564\n",
            "\n",
            "| TRAIN SET | Epoch [14/30], Step [0000/0057], Loss: 5.0130, Time left: 0.42 hr\n",
            "| TRAIN SET | Epoch [14/30], Step [0010/0057], Loss: 5.3259, Time left: 0.37 hr\n",
            "| TRAIN SET | Epoch [14/30], Step [0020/0057], Loss: 5.1312, Time left: 0.29 hr\n",
            "| TRAIN SET | Epoch [14/30], Step [0030/0057], Loss: 5.2391, Time left: 0.21 hr\n",
            "| TRAIN SET | Epoch [14/30], Step [0040/0057], Loss: 5.0913, Time left: 0.13 hr\n",
            "| TRAIN SET | Epoch [14/30], Step [0050/0057], Loss: 5.2276, Time left: 0.06 hr\n",
            "| TRAIN SET | Epoch [14/30], Loss: 5.1874, Acc: 0.3874\n",
            "\n",
            "| VALID SET | Epoch [14/30], Step [0000/0006], Loss: 4.9606, Time left: 0.05 hr\n",
            "| VALID SET | Epoch [14/30], Loss: 5.4658, Acc: 0.4546\n",
            "\n",
            "| TRAIN SET | Epoch [15/30], Step [0000/0057], Loss: 4.9536, Time left: 0.42 hr\n",
            "| TRAIN SET | Epoch [15/30], Step [0010/0057], Loss: 5.3232, Time left: 0.35 hr\n",
            "| TRAIN SET | Epoch [15/30], Step [0020/0057], Loss: 4.6918, Time left: 0.27 hr\n",
            "| TRAIN SET | Epoch [15/30], Step [0030/0057], Loss: 4.8853, Time left: 0.20 hr\n",
            "| TRAIN SET | Epoch [15/30], Step [0040/0057], Loss: 4.9262, Time left: 0.13 hr\n",
            "| TRAIN SET | Epoch [15/30], Step [0050/0057], Loss: 5.0717, Time left: 0.05 hr\n",
            "| TRAIN SET | Epoch [15/30], Loss: 5.1827, Acc: 0.3897\n",
            "\n",
            "| VALID SET | Epoch [15/30], Step [0000/0006], Loss: 4.9916, Time left: 0.05 hr\n",
            "| VALID SET | Epoch [15/30], Loss: 5.5152, Acc: 0.4601\n",
            "\n",
            "| TRAIN SET | Epoch [16/30], Step [0000/0057], Loss: 5.2956, Time left: 0.40 hr\n",
            "| TRAIN SET | Epoch [16/30], Step [0010/0057], Loss: 5.2140, Time left: 0.33 hr\n",
            "| TRAIN SET | Epoch [16/30], Step [0020/0057], Loss: 5.2982, Time left: 0.26 hr\n",
            "| TRAIN SET | Epoch [16/30], Step [0030/0057], Loss: 5.1996, Time left: 0.18 hr\n",
            "| TRAIN SET | Epoch [16/30], Step [0040/0057], Loss: 4.9352, Time left: 0.12 hr\n",
            "| TRAIN SET | Epoch [16/30], Step [0050/0057], Loss: 4.9548, Time left: 0.05 hr\n",
            "| TRAIN SET | Epoch [16/30], Loss: 5.1825, Acc: 0.3935\n",
            "\n",
            "| VALID SET | Epoch [16/30], Step [0000/0006], Loss: 5.0843, Time left: 0.04 hr\n",
            "| VALID SET | Epoch [16/30], Loss: 5.5407, Acc: 0.4509\n",
            "\n",
            "| TRAIN SET | Epoch [17/30], Step [0000/0057], Loss: 5.1304, Time left: 0.36 hr\n",
            "| TRAIN SET | Epoch [17/30], Step [0010/0057], Loss: 5.1107, Time left: 0.31 hr\n",
            "| TRAIN SET | Epoch [17/30], Step [0020/0057], Loss: 5.2428, Time left: 0.24 hr\n",
            "| TRAIN SET | Epoch [17/30], Step [0030/0057], Loss: 5.1237, Time left: 0.17 hr\n",
            "| TRAIN SET | Epoch [17/30], Step [0040/0057], Loss: 5.1665, Time left: 0.11 hr\n",
            "| TRAIN SET | Epoch [17/30], Step [0050/0057], Loss: 5.1161, Time left: 0.05 hr\n",
            "| TRAIN SET | Epoch [17/30], Loss: 5.1622, Acc: 0.3937\n",
            "\n",
            "| VALID SET | Epoch [17/30], Step [0000/0006], Loss: 4.9310, Time left: 0.04 hr\n",
            "| VALID SET | Epoch [17/30], Loss: 5.3990, Acc: 0.4625\n",
            "\n",
            "| TRAIN SET | Epoch [18/30], Step [0000/0057], Loss: 5.1845, Time left: 0.48 hr\n",
            "| TRAIN SET | Epoch [18/30], Step [0010/0057], Loss: 4.8914, Time left: 0.29 hr\n",
            "| TRAIN SET | Epoch [18/30], Step [0020/0057], Loss: 5.0068, Time left: 0.23 hr\n",
            "| TRAIN SET | Epoch [18/30], Step [0030/0057], Loss: 5.0745, Time left: 0.16 hr\n",
            "| TRAIN SET | Epoch [18/30], Step [0040/0057], Loss: 4.8462, Time left: 0.10 hr\n",
            "| TRAIN SET | Epoch [18/30], Step [0050/0057], Loss: 5.0855, Time left: 0.04 hr\n",
            "| TRAIN SET | Epoch [18/30], Loss: 5.1472, Acc: 0.3973\n",
            "\n",
            "| VALID SET | Epoch [18/30], Step [0000/0006], Loss: 5.0739, Time left: 0.04 hr\n",
            "| VALID SET | Epoch [18/30], Loss: 5.5036, Acc: 0.4570\n",
            "\n",
            "| TRAIN SET | Epoch [19/30], Step [0000/0057], Loss: 5.0658, Time left: 0.31 hr\n",
            "| TRAIN SET | Epoch [19/30], Step [0010/0057], Loss: 4.8603, Time left: 0.27 hr\n",
            "| TRAIN SET | Epoch [19/30], Step [0020/0057], Loss: 5.2256, Time left: 0.20 hr\n",
            "| TRAIN SET | Epoch [19/30], Step [0030/0057], Loss: 5.2524, Time left: 0.15 hr\n",
            "| TRAIN SET | Epoch [19/30], Step [0040/0057], Loss: 4.9309, Time left: 0.09 hr\n",
            "| TRAIN SET | Epoch [19/30], Step [0050/0057], Loss: 5.3483, Time left: 0.04 hr\n",
            "| TRAIN SET | Epoch [19/30], Loss: 5.1360, Acc: 0.4030\n",
            "\n",
            "| VALID SET | Epoch [19/30], Step [0000/0006], Loss: 5.0167, Time left: 0.03 hr\n",
            "| VALID SET | Epoch [19/30], Loss: 5.5236, Acc: 0.4570\n",
            "\n",
            "| TRAIN SET | Epoch [20/30], Step [0000/0057], Loss: 5.1651, Time left: 0.27 hr\n",
            "| TRAIN SET | Epoch [20/30], Step [0010/0057], Loss: 4.9252, Time left: 0.25 hr\n",
            "| TRAIN SET | Epoch [20/30], Step [0020/0057], Loss: 4.8589, Time left: 0.19 hr\n",
            "| TRAIN SET | Epoch [20/30], Step [0030/0057], Loss: 4.7814, Time left: 0.14 hr\n",
            "| TRAIN SET | Epoch [20/30], Step [0040/0057], Loss: 4.7916, Time left: 0.09 hr\n",
            "| TRAIN SET | Epoch [20/30], Step [0050/0057], Loss: 5.3843, Time left: 0.04 hr\n",
            "| TRAIN SET | Epoch [20/30], Loss: 5.1375, Acc: 0.4030\n",
            "\n",
            "| VALID SET | Epoch [20/30], Step [0000/0006], Loss: 4.9903, Time left: 0.03 hr\n",
            "| VALID SET | Epoch [20/30], Loss: 5.4772, Acc: 0.4601\n",
            "\n",
            "| TRAIN SET | Epoch [21/30], Step [0000/0057], Loss: 4.7774, Time left: 0.26 hr\n",
            "| TRAIN SET | Epoch [21/30], Step [0010/0057], Loss: 5.0199, Time left: 0.22 hr\n",
            "| TRAIN SET | Epoch [21/30], Step [0020/0057], Loss: 4.9299, Time left: 0.17 hr\n",
            "| TRAIN SET | Epoch [21/30], Step [0030/0057], Loss: 5.4188, Time left: 0.12 hr\n",
            "| TRAIN SET | Epoch [21/30], Step [0040/0057], Loss: 5.1351, Time left: 0.08 hr\n",
            "| TRAIN SET | Epoch [21/30], Step [0050/0057], Loss: 5.2380, Time left: 0.03 hr\n",
            "| TRAIN SET | Epoch [21/30], Loss: 5.1381, Acc: 0.4004\n",
            "\n",
            "| VALID SET | Epoch [21/30], Step [0000/0006], Loss: 4.9797, Time left: 0.03 hr\n",
            "| VALID SET | Epoch [21/30], Loss: 5.4832, Acc: 0.4637\n",
            "\n",
            "| TRAIN SET | Epoch [22/30], Step [0000/0057], Loss: 5.2228, Time left: 0.24 hr\n",
            "| TRAIN SET | Epoch [22/30], Step [0010/0057], Loss: 5.4355, Time left: 0.20 hr\n",
            "| TRAIN SET | Epoch [22/30], Step [0020/0057], Loss: 5.0722, Time left: 0.15 hr\n",
            "| TRAIN SET | Epoch [22/30], Step [0030/0057], Loss: 4.9077, Time left: 0.11 hr\n",
            "| TRAIN SET | Epoch [22/30], Step [0040/0057], Loss: 4.9968, Time left: 0.07 hr\n",
            "| TRAIN SET | Epoch [22/30], Step [0050/0057], Loss: 5.0529, Time left: 0.03 hr\n",
            "| TRAIN SET | Epoch [22/30], Loss: 5.1366, Acc: 0.4001\n",
            "\n",
            "| VALID SET | Epoch [22/30], Step [0000/0006], Loss: 5.0478, Time left: 0.03 hr\n",
            "| VALID SET | Epoch [22/30], Loss: 5.5105, Acc: 0.4601\n",
            "\n",
            "| TRAIN SET | Epoch [23/30], Step [0000/0057], Loss: 5.0876, Time left: 0.24 hr\n",
            "| TRAIN SET | Epoch [23/30], Step [0010/0057], Loss: 5.1056, Time left: 0.18 hr\n",
            "| TRAIN SET | Epoch [23/30], Step [0020/0057], Loss: 5.2255, Time left: 0.14 hr\n",
            "| TRAIN SET | Epoch [23/30], Step [0030/0057], Loss: 5.3843, Time left: 0.10 hr\n",
            "| TRAIN SET | Epoch [23/30], Step [0040/0057], Loss: 4.9058, Time left: 0.06 hr\n",
            "| TRAIN SET | Epoch [23/30], Step [0050/0057], Loss: 5.1283, Time left: 0.03 hr\n",
            "| TRAIN SET | Epoch [23/30], Loss: 5.1250, Acc: 0.4025\n",
            "\n",
            "| VALID SET | Epoch [23/30], Step [0000/0006], Loss: 5.0621, Time left: 0.02 hr\n",
            "| VALID SET | Epoch [23/30], Loss: 5.4713, Acc: 0.4662\n",
            "\n",
            "| TRAIN SET | Epoch [24/30], Step [0000/0057], Loss: 4.8980, Time left: 0.22 hr\n",
            "| TRAIN SET | Epoch [24/30], Step [0010/0057], Loss: 5.1392, Time left: 0.15 hr\n",
            "| TRAIN SET | Epoch [24/30], Step [0020/0057], Loss: 5.1243, Time left: 0.12 hr\n",
            "| TRAIN SET | Epoch [24/30], Step [0030/0057], Loss: 4.8838, Time left: 0.09 hr\n",
            "| TRAIN SET | Epoch [24/30], Step [0040/0057], Loss: 4.7959, Time left: 0.05 hr\n",
            "| TRAIN SET | Epoch [24/30], Step [0050/0057], Loss: 5.0484, Time left: 0.02 hr\n",
            "| TRAIN SET | Epoch [24/30], Loss: 5.1175, Acc: 0.4052\n",
            "\n",
            "| VALID SET | Epoch [24/30], Step [0000/0006], Loss: 5.1347, Time left: 0.02 hr\n",
            "| VALID SET | Epoch [24/30], Loss: 5.4876, Acc: 0.4631\n",
            "\n",
            "| TRAIN SET | Epoch [25/30], Step [0000/0057], Loss: 4.8911, Time left: 0.16 hr\n",
            "| TRAIN SET | Epoch [25/30], Step [0010/0057], Loss: 5.0683, Time left: 0.13 hr\n",
            "| TRAIN SET | Epoch [25/30], Step [0020/0057], Loss: 5.1328, Time left: 0.10 hr\n",
            "| TRAIN SET | Epoch [25/30], Step [0030/0057], Loss: 5.4099, Time left: 0.07 hr\n",
            "| TRAIN SET | Epoch [25/30], Step [0040/0057], Loss: 4.8256, Time left: 0.05 hr\n",
            "| TRAIN SET | Epoch [25/30], Step [0050/0057], Loss: 5.0145, Time left: 0.02 hr\n",
            "| TRAIN SET | Epoch [25/30], Loss: 5.1108, Acc: 0.4079\n",
            "\n",
            "| VALID SET | Epoch [25/30], Step [0000/0006], Loss: 4.9734, Time left: 0.02 hr\n",
            "| VALID SET | Epoch [25/30], Loss: 5.4338, Acc: 0.4576\n",
            "\n",
            "| TRAIN SET | Epoch [26/30], Step [0000/0057], Loss: 4.9126, Time left: 0.16 hr\n",
            "| TRAIN SET | Epoch [26/30], Step [0010/0057], Loss: 5.2573, Time left: 0.11 hr\n",
            "| TRAIN SET | Epoch [26/30], Step [0020/0057], Loss: 5.4469, Time left: 0.09 hr\n",
            "| TRAIN SET | Epoch [26/30], Step [0030/0057], Loss: 5.4204, Time left: 0.06 hr\n",
            "| TRAIN SET | Epoch [26/30], Step [0040/0057], Loss: 5.1369, Time left: 0.04 hr\n",
            "| TRAIN SET | Epoch [26/30], Step [0050/0057], Loss: 5.1186, Time left: 0.02 hr\n",
            "| TRAIN SET | Epoch [26/30], Loss: 5.1340, Acc: 0.4028\n",
            "\n",
            "| VALID SET | Epoch [26/30], Step [0000/0006], Loss: 4.9681, Time left: 0.02 hr\n",
            "| VALID SET | Epoch [26/30], Loss: 5.4860, Acc: 0.4595\n",
            "\n",
            "| TRAIN SET | Epoch [27/30], Step [0000/0057], Loss: 5.1689, Time left: 0.12 hr\n",
            "| TRAIN SET | Epoch [27/30], Step [0010/0057], Loss: 5.0892, Time left: 0.09 hr\n",
            "| TRAIN SET | Epoch [27/30], Step [0020/0057], Loss: 4.9208, Time left: 0.07 hr\n",
            "| TRAIN SET | Epoch [27/30], Step [0030/0057], Loss: 5.1246, Time left: 0.05 hr\n",
            "| TRAIN SET | Epoch [27/30], Step [0040/0057], Loss: 4.9710, Time left: 0.03 hr\n",
            "| TRAIN SET | Epoch [27/30], Step [0050/0057], Loss: 4.9424, Time left: 0.01 hr\n",
            "| TRAIN SET | Epoch [27/30], Loss: 5.0850, Acc: 0.4090\n",
            "\n",
            "| VALID SET | Epoch [27/30], Step [0000/0006], Loss: 5.0397, Time left: 0.01 hr\n",
            "| VALID SET | Epoch [27/30], Loss: 5.4540, Acc: 0.4625\n",
            "\n",
            "| TRAIN SET | Epoch [28/30], Step [0000/0057], Loss: 5.1440, Time left: 0.14 hr\n",
            "| TRAIN SET | Epoch [28/30], Step [0010/0057], Loss: 5.0490, Time left: 0.07 hr\n",
            "| TRAIN SET | Epoch [28/30], Step [0020/0057], Loss: 4.8933, Time left: 0.05 hr\n",
            "| TRAIN SET | Epoch [28/30], Step [0030/0057], Loss: 5.0920, Time left: 0.04 hr\n",
            "| TRAIN SET | Epoch [28/30], Step [0040/0057], Loss: 5.2674, Time left: 0.02 hr\n",
            "| TRAIN SET | Epoch [28/30], Step [0050/0057], Loss: 4.9762, Time left: 0.01 hr\n",
            "| TRAIN SET | Epoch [28/30], Loss: 5.0790, Acc: 0.4112\n",
            "\n",
            "| VALID SET | Epoch [28/30], Step [0000/0006], Loss: 4.9986, Time left: 0.01 hr\n",
            "| VALID SET | Epoch [28/30], Loss: 5.4848, Acc: 0.4607\n",
            "\n",
            "| TRAIN SET | Epoch [29/30], Step [0000/0057], Loss: 5.0565, Time left: 0.05 hr\n",
            "| TRAIN SET | Epoch [29/30], Step [0010/0057], Loss: 5.1503, Time left: 0.05 hr\n",
            "| TRAIN SET | Epoch [29/30], Step [0020/0057], Loss: 5.1799, Time left: 0.04 hr\n",
            "| TRAIN SET | Epoch [29/30], Step [0030/0057], Loss: 5.0340, Time left: 0.02 hr\n",
            "| TRAIN SET | Epoch [29/30], Step [0040/0057], Loss: 5.0105, Time left: 0.02 hr\n",
            "| TRAIN SET | Epoch [29/30], Step [0050/0057], Loss: 5.0449, Time left: 0.01 hr\n",
            "| TRAIN SET | Epoch [29/30], Loss: 5.0836, Acc: 0.4078\n",
            "\n",
            "| VALID SET | Epoch [29/30], Step [0000/0006], Loss: 4.9618, Time left: 0.01 hr\n",
            "| VALID SET | Epoch [29/30], Loss: 5.4507, Acc: 0.4607\n",
            "\n",
            "| TRAIN SET | Epoch [30/30], Step [0000/0057], Loss: 4.9750, Time left: 0.03 hr\n",
            "| TRAIN SET | Epoch [30/30], Step [0010/0057], Loss: 5.1801, Time left: 0.02 hr\n",
            "| TRAIN SET | Epoch [30/30], Step [0020/0057], Loss: 5.0656, Time left: 0.02 hr\n",
            "| TRAIN SET | Epoch [30/30], Step [0030/0057], Loss: 5.2712, Time left: 0.01 hr\n",
            "| TRAIN SET | Epoch [30/30], Step [0040/0057], Loss: 5.0827, Time left: 0.01 hr\n",
            "| TRAIN SET | Epoch [30/30], Step [0050/0057], Loss: 5.0746, Time left: 0.00 hr\n",
            "| TRAIN SET | Epoch [30/30], Loss: 5.1247, Acc: 0.4090\n",
            "\n",
            "| VALID SET | Epoch [30/30], Step [0000/0006], Loss: 4.9578, Time left: 0.00 hr\n",
            "| VALID SET | Epoch [30/30], Loss: 5.4549, Acc: 0.4601\n",
            "\n"
          ]
        }
      ]
    },
    {
      "cell_type": "markdown",
      "source": [
        "###Inference"
      ],
      "metadata": {
        "id": "Ya37IFIqTca8"
      }
    },
    {
      "cell_type": "code",
      "source": [
        "import numpy as np\n",
        "import csv\n",
        "import matplotlib.pyplot as plt"
      ],
      "metadata": {
        "id": "8ilnhj4noOd9"
      },
      "execution_count": 29,
      "outputs": []
    },
    {
      "cell_type": "code",
      "source": [
        "num_epochs = 30"
      ],
      "metadata": {
        "id": "2NXGXiF-oToo"
      },
      "execution_count": 30,
      "outputs": []
    },
    {
      "cell_type": "code",
      "source": [
        "fig = plt.figure(figsize=(10,5))\n",
        "\n",
        "for phase in ['train', 'valid']:\n",
        "\n",
        "    epoch = []\n",
        "    loss = []\n",
        "    acc = []\n",
        "\n",
        "    for i in range(num_epochs):\n",
        "\n",
        "        with open('./logs/{}-log-epoch-{:02d}.txt'.format(phase, i+1), 'r') as f:\n",
        "            df = csv.reader(f, delimiter='\\t')\n",
        "            data = list(df)\n",
        "\n",
        "        epoch.append(float(data[0][0]))\n",
        "        loss.append(float(data[0][1]))\n",
        "        acc.append(float(data[0][2]))\n",
        "\n",
        "    plt.subplot(1, 2, 1)\n",
        "    if phase == 'train':\n",
        "        plt.plot(epoch, loss, label = phase, color = 'red', linewidth = 5.0)\n",
        "    else:\n",
        "        plt.plot(epoch, loss, label = phase, color = 'blue', linewidth = 5.0)\n",
        "\n",
        "    plt.xlabel('Epoch', fontsize = 20)\n",
        "    plt.ylabel('Loss', fontsize = 20)\n",
        "\n",
        "    plt.subplot(1, 2, 2)\n",
        "    plt.tight_layout()\n",
        "\n",
        "    if phase == 'train':\n",
        "        plt.plot(epoch, acc, label = phase, color = 'red', linewidth = 5.0)\n",
        "    else:\n",
        "        plt.plot(epoch, acc, label = phase, color = 'blue', linewidth = 5.0)\n",
        "\n",
        "    plt.xlabel('Epoch', fontsize = 20)\n",
        "    plt.ylabel('Accuracy', fontsize = 20)\n",
        "\n",
        "    plt.legend(bbox_to_anchor=(1.05, 1), loc=2, borderaxespad=0., prop={'size': 20})"
      ],
      "metadata": {
        "colab": {
          "base_uri": "https://localhost:8080/",
          "height": 507
        },
        "id": "buMTDL-GoXvI",
        "outputId": "9bb4f206-d51f-4d76-bbd7-239aff0730b6"
      },
      "execution_count": 31,
      "outputs": [
        {
          "output_type": "display_data",
          "data": {
            "text/plain": [
              "<Figure size 1000x500 with 2 Axes>"
            ],
            "image/png": "[encoded data removed]"
          },
          "metadata": {}
        }
      ]
    },
    {
      "cell_type": "code",
      "source": [
        "image_path = './input_dir/resize_images/'\n",
        "question = 'what animal is in the picture?'\n",
        "saved_model = '/content/drive/MyDrive/vqa/models/best_model.pt'\n",
        "max_qst_length=30"
      ],
      "metadata": {
        "id": "-v5XEy_EUs2U"
      },
      "execution_count": 36,
      "outputs": []
    },
    {
      "cell_type": "code",
      "source": [
        "warnings.filterwarnings(\"ignore\")\n",
        "device = torch.device('cuda' if torch.cuda.is_available() else 'cpu')\n",
        "\n",
        "\n",
        "qst_vocab = load_str_list(\"/content/drive/MyDrive/vqa/input_dir/vocab_questions.txt\")\n",
        "ans_vocab = load_str_list(\"/content/drive/MyDrive/vqa/input_dir/vocab_answers.txt\")\n",
        "word2idx_dict = {w:n_w for n_w, w in enumerate(qst_vocab)}\n",
        "unk2idx = word2idx_dict['<unk>'] if '<unk>' in word2idx_dict else None\n",
        "qst_vocab_size = len(qst_vocab)\n",
        "ans_vocab_size = len(ans_vocab)\n",
        "\n",
        "\n",
        "def word2idx(w):\n",
        "        if w in word2idx_dict:\n",
        "            return word2idx_dict[w]\n",
        "        elif unk2idx is not None:\n",
        "            return unk2idx\n",
        "        else:\n",
        "            raise ValueError('word %s not in dictionary (while dictionary does not contain <unk>)' % w)\n",
        "\n",
        "\n",
        "\n",
        "\n",
        "\n",
        "\n",
        "image = cv2.imread(image_path)\n",
        "if image is None:\n",
        "    raise FileNotFoundError(f\"The image at the path {image_path} was not found or is not a valid image.\")\n",
        "\n",
        "# If the image is loaded successfully, resize it\n",
        "image = cv2.resize(image, (224, 224), interpolation=cv2.INTER_AREA)\n",
        "#image = cv2.resize(image, (224,224), interpolation = cv2.INTER_AREA)\n",
        "image = torch.from_numpy(image).float()\n",
        "image = image.to(device)\n",
        "image = image.unsqueeze(dim=0)\n",
        "image = image.view(1,3,224,224)\n",
        "max_qst_length=30\n",
        "\n",
        "try:\n",
        "  q_list = list(question.split(\" \"))\n",
        "except:\n",
        "  q_list = list(question.split(1))\n",
        "idx = 'valid'\n",
        "qst2idc = np.array([word2idx('<pad>')] * max_qst_length)  # padded with '<pad>' in 'ans_vocab'\n",
        "qst2idc[:len(q_list)] = [word2idx(w) for w in q_list]\n",
        "\n",
        "question = qst2idc\n",
        "question = torch.from_numpy(question).long()\n",
        "\n",
        "question = question.to(device)\n",
        "question = question.unsqueeze(dim=0)\n",
        "\n",
        "net = torch.load(saved_model)\n",
        "net = net.to(device)\n",
        "\n",
        "net.eval()\n",
        "output = model(image, question)\n",
        "\n",
        "\n",
        "predicts = torch.softmax(output, 1)\n",
        "probs, indices = torch.topk(predicts, k=5, dim=1)\n",
        "probs = probs.squeeze()\n",
        "indices = indices.squeeze()\n",
        "print(\"predicted - probabilty\")\n",
        "for i in range(5):\n",
        "\n",
        "  print(\"'{}' - {:.4f}\".format(ans_vocab[indices[i].item()], probs[i].item()))"
      ],
      "metadata": {
        "id": "aQvOBxL4T1BW",
        "colab": {
          "base_uri": "https://localhost:8080/",
          "height": 249
        },
        "outputId": "32abab66-d9e5-4675-c576-d587833ca0d9"
      },
      "execution_count": 38,
      "outputs": [
        {
          "output_type": "error",
          "ename": "FileNotFoundError",
          "evalue": "ignored",
          "traceback": [
            "\u001b[0;31m---------------------------------------------------------------------------\u001b[0m",
            "\u001b[0;31mFileNotFoundError\u001b[0m                         Traceback (most recent call last)",
            "\u001b[0;32m<ipython-input-38-295f072fd7c7>\u001b[0m in \u001b[0;36m<cell line: 27>\u001b[0;34m()\u001b[0m\n\u001b[1;32m     26\u001b[0m \u001b[0mimage\u001b[0m \u001b[0;34m=\u001b[0m \u001b[0mcv2\u001b[0m\u001b[0;34m.\u001b[0m\u001b[0mimread\u001b[0m\u001b[0;34m(\u001b[0m\u001b[0mimage_path\u001b[0m\u001b[0;34m)\u001b[0m\u001b[0;34m\u001b[0m\u001b[0;34m\u001b[0m\u001b[0m\n\u001b[1;32m     27\u001b[0m \u001b[0;32mif\u001b[0m \u001b[0mimage\u001b[0m \u001b[0;32mis\u001b[0m \u001b[0;32mNone\u001b[0m\u001b[0;34m:\u001b[0m\u001b[0;34m\u001b[0m\u001b[0;34m\u001b[0m\u001b[0m\n\u001b[0;32m---> 28\u001b[0;31m     \u001b[0;32mraise\u001b[0m \u001b[0mFileNotFoundError\u001b[0m\u001b[0;34m(\u001b[0m\u001b[0;34mf\"The image at the path {image_path} was not found or is not a valid image.\"\u001b[0m\u001b[0;34m)\u001b[0m\u001b[0;34m\u001b[0m\u001b[0;34m\u001b[0m\u001b[0m\n\u001b[0m\u001b[1;32m     29\u001b[0m \u001b[0;34m\u001b[0m\u001b[0m\n\u001b[1;32m     30\u001b[0m \u001b[0;31m# If the image is loaded successfully, resize it\u001b[0m\u001b[0;34m\u001b[0m\u001b[0;34m\u001b[0m\u001b[0m\n",
            "\u001b[0;31mFileNotFoundError\u001b[0m: The image at the path /content/drive/MyDrive/vqa/input_dir/resize_images/test2017.png was not found or is not a valid image."
          ]
        }
      ]
    },
    {
      "cell_type": "code",
      "source": [
        "%cd '/content/drive/MyDrive/vqa/'"
      ],
      "metadata": {
        "id": "ARUDHmwAD9kZ",
        "colab": {
          "base_uri": "https://localhost:8080/"
        },
        "outputId": "6f01db93-f087-4475-beca-c767fce6a7de"
      },
      "execution_count": 39,
      "outputs": [
        {
          "output_type": "stream",
          "name": "stdout",
          "text": [
            "/content/drive/MyDrive/vqa\n"
          ]
        }
      ]
    },
    {
      "cell_type": "code",
      "source": [
        "# Running inference on the command line\n",
        "!python /content/drive/MyDrive/vqa/test.py --image_path /content/drive/MyDrive/vqa/dataset/Resized_Images/test_img.jpeg --question 'what does the sign say?' --saved_model /content/drive/MyDrive/vqa/models/best_model.pt"
      ],
      "metadata": {
        "colab": {
          "base_uri": "https://localhost:8080/"
        },
        "id": "XszGr0fvEKOc",
        "outputId": "37e14347-f6e3-45ed-f4c8-d28b91425e24"
      },
      "execution_count": 40,
      "outputs": [
        {
          "output_type": "stream",
          "name": "stdout",
          "text": [
            "python3: can't open file '/content/drive/MyDrive/vqa/test.py': [Errno 2] No such file or directory\n"
          ]
        }
      ]
    },
    {
      "cell_type": "code",
      "source": [
        "device = torch.device('cuda' if torch.cuda.is_available() else 'cpu')\n",
        "print(torch.cuda.is_available())"
      ],
      "metadata": {
        "colab": {
          "base_uri": "https://localhost:8080/"
        },
        "id": "_Cd2brcI6SGR",
        "outputId": "d93f507f-4724-4310-c994-8a485e8a8ad1"
      },
      "execution_count": 41,
      "outputs": [
        {
          "output_type": "stream",
          "name": "stdout",
          "text": [
            "True\n"
          ]
        }
      ]
    },
    {
      "cell_type": "code",
      "source": [
        "import torch\n",
        "\n",
        "import torch.nn as nn\n",
        "import torch.optim as optim\n",
        "import os, json\n",
        "\n",
        "def model_evaluation():\n",
        "    device = torch.device('cuda' if torch.cuda.is_available() else 'cpu')  # Use CUDA on Colab\n",
        "    data_loader = get_loader(\n",
        "        input_dir=\"./input_dir\",\n",
        "        input_vqa_train='train.npy',\n",
        "        input_vqa_valid='valid.npy',\n",
        "        max_qst_length=30,\n",
        "        max_num_ans=10,\n",
        "        batch_size=256,\n",
        "        num_workers=8)\n",
        "    qst_vocab_size = data_loader['train'].dataset.qst_vocab.vocab_size\n",
        "    ans_vocab_size = data_loader['train'].dataset.ans_vocab.vocab_size\n",
        "    ans_unk_idx = data_loader['train'].dataset.ans_vocab.unk2idx\n",
        "    # When loading, ensure that you initialize the VqaModel with the same parameters as when it was saved\n",
        "    model = torch.load(\"./input_dir/-epoch-30.pt\", map_location=device)\n",
        "    model.to(device)  # Move model to the appropriate device\n",
        "    model.eval()  # Set the model to evaluation mode\n",
        "\n",
        "\n",
        "\n",
        "\n",
        "\n",
        "    # You do not need to initialize or zero the optimizer for evaluation\n",
        "    criterion = nn.CrossEntropyLoss()\n",
        "\n",
        "    with open(\"./input_dir/questionIdAnswerTypeValid.json\") as f:\n",
        "        answers = json.load(f)\n",
        "    acc1 = {\"yes/no\": 0, \"number\": 0, \"other\": 0}\n",
        "    acc2 = {\"yes/no\": 0, \"number\": 0, \"other\": 0}\n",
        "    item_num = {\"yes/no\": 0, \"number\": 0, \"other\": 0}\n",
        "\n",
        "    # Evaluation loop\n",
        "    for batch_idx, batch_sample in enumerate(data_loader['valid']):\n",
        "        image = batch_sample['image'].to(device)\n",
        "        question = batch_sample['question'].to(device)\n",
        "        label = batch_sample['answer_label'].to(device)\n",
        "        multi_choice = batch_sample['answer_multi_choice']  # not tensor, list.\n",
        "        question_id = batch_sample['question_id']\n",
        "\n",
        "        # Forward pass\n",
        "        with torch.no_grad():\n",
        "            output = model(image, question)\n",
        "            _, pred_exp1 = torch.max(output, 1)\n",
        "            _, pred_exp2 = torch.max(output, 1)\n",
        "            pred_exp2[pred_exp2 == ans_unk_idx] = -9999\n",
        "\n",
        "            check1 = torch.stack([(ans == pred_exp1.cpu()) for ans in multi_choice]).any(dim=0)\n",
        "            check2 = torch.stack([(ans == pred_exp1.cpu()) for ans in multi_choice]).any(dim=0)\n",
        "            for indx in range(len(question_id)):\n",
        "                answerType = answers[str(question_id[indx])]\n",
        "                acc1[answerType] += check1[indx].item()\n",
        "                acc2[answerType] += check2[indx].item()\n",
        "                item_num[answerType] += 1\n",
        "\n",
        "    # Print accuracy results\n",
        "    for key, item in acc1.items():\n",
        "        if item_num[key] != 0:\n",
        "            print('Accuracy for NOT accepted <unk> {}: {:.4f}'.format(key, acc2[key]/item_num[key]))\n",
        "        else:\n",
        "            print('Accuracy for NOT accepted <unk> {}: undefined (division by zero)'.format(key))\n",
        "\n",
        "    total_items = sum(item_num.values())\n",
        "    if total_items != 0:\n",
        "        print('Accuracy for NOT accepted <unk> for all: {:.4f}'.format(sum(acc2.values())/total_items))\n",
        "    else:\n",
        "        print('Accuracy for NOT accepted <unk> for all: undefined (division by zero)')\n",
        "\n",
        "if __name__ == \"__main__\":\n",
        "    model_evaluation()"
      ],
      "metadata": {
        "colab": {
          "base_uri": "https://localhost:8080/"
        },
        "id": "Y2VN2LwP6eZM",
        "outputId": "6f43f37e-f5f1-4fe3-9bb0-ea395f413f86"
      },
      "execution_count": 47,
      "outputs": [
        {
          "output_type": "stream",
          "name": "stdout",
          "text": [
            "Accuracy for NOT accepted <unk> yes/no: 0.7384\n",
            "Accuracy for NOT accepted <unk> number: 0.3656\n",
            "Accuracy for NOT accepted <unk> other: 0.2790\n",
            "Accuracy for NOT accepted <unk> for all: 0.4601\n"
          ]
        }
      ]
    }
  ]
}